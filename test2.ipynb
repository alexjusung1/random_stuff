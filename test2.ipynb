{
 "cells": [
  {
   "cell_type": "code",
   "execution_count": 6,
   "metadata": {},
   "outputs": [
    {
     "name": "stdout",
     "output_type": "stream",
     "text": [
      "---#-----\n",
      "----#----\n",
      "--###----\n",
      "---------\n",
      "---------\n"
     ]
    }
   ],
   "source": [
    "# Adapted from https://effectivepython.com/2015/03/10/consider-coroutines-to-run-many-functions-concurrently\n",
    "\n",
    "from collections import namedtuple\n",
    "from typing import Generator, Literal\n",
    "\n",
    "ALIVE = '#'\n",
    "EMPTY = '-'\n",
    "TICK = object()\n",
    "Query = namedtuple('Query', ['y', 'x'])\n",
    "Transition = namedtuple('Transition', ['y', 'x', 'state'])\n",
    "\n",
    "def get_neighbors(y: int, x: int):\n",
    "    n_ = yield Query(y - 1, x    )\n",
    "    ne = yield Query(y - 1, x + 1)\n",
    "    e_ = yield Query(y    , x + 1)\n",
    "    se = yield Query(y + 1, x + 1)\n",
    "    s_ = yield Query(y + 1, x    )\n",
    "    sw = yield Query(y + 1, x - 1)\n",
    "    w_ = yield Query(y    , x - 1)\n",
    "    nw = yield Query(y - 1, x - 1)\n",
    "    return n_, ne, e_, se, s_, sw, w_, nw\n",
    "\n",
    "def game_logic(state, neighbors: list):\n",
    "    alive_count = neighbors.count(ALIVE)\n",
    "    if state == ALIVE:\n",
    "        if alive_count < 2:\n",
    "            return EMPTY\n",
    "        if alive_count > 3:\n",
    "            return EMPTY\n",
    "    else:\n",
    "        if alive_count == 3:\n",
    "            return ALIVE\n",
    "    return state\n",
    "\n",
    "def step_cell(y: int, x: int):\n",
    "    state = yield Query(y, x)\n",
    "    neighbors = yield from get_neighbors(y, x)\n",
    "    next_state = game_logic(state, neighbors)\n",
    "    yield Transition(y, x, next_state)\n",
    "\n",
    "def update_board(height: int, width: int):\n",
    "    while True:\n",
    "        for y in range(height):\n",
    "            for x in range(width):\n",
    "                yield from step_cell(y, x)\n",
    "        yield TICK\n",
    "\n",
    "class Board(object):\n",
    "    def __init__(self, height, width):\n",
    "        self.height = height\n",
    "        self.width = width\n",
    "        self.board = [[EMPTY for _ in range(width)] for _ in range(height)]\n",
    "    \n",
    "    def query(self, y, x):\n",
    "        return self.board[y % self.height][x % self.width]\n",
    "    \n",
    "    def transition(self, y, x, state):\n",
    "        self.board[y][x] = state\n",
    "    \n",
    "    def __str__(self):\n",
    "        return '\\n'.join(''.join(row) for row in self.board)\n",
    "\n",
    "def simulate_transition(grid: Board, update: Generator):\n",
    "    progeny = Board(grid.height, grid.width)\n",
    "    instr = next(update)\n",
    "    while instr is not TICK:\n",
    "        if isinstance(instr, Query):\n",
    "            instr = update.send(grid.query(instr.y, instr.x))\n",
    "        else:\n",
    "            progeny.transition(instr.y, instr.x, instr.state)\n",
    "            instr = next(update)\n",
    "    return progeny\n",
    "\n",
    "grid = Board(5, 9)\n",
    "grid.transition(0, 3, ALIVE)\n",
    "grid.transition(1, 4, ALIVE)\n",
    "grid.transition(2, 2, ALIVE)\n",
    "grid.transition(2, 3, ALIVE)\n",
    "grid.transition(2, 4, ALIVE)\n",
    "print(grid)"
   ]
  },
  {
   "cell_type": "code",
   "execution_count": 8,
   "metadata": {},
   "outputs": [
    {
     "name": "stdout",
     "output_type": "stream",
     "text": [
      "    0     |     1     |     2     |     3     |     4     |     5     |     6     |     7     |     8     |     9    \n",
      "-#------- | --------- | --------- | --------- | --------- | --------- | --------- | --------- | --------- | ---#-----\n",
      "--#------ | #-#------ | --#------ | -#------- | --#------ | --------- | --------- | --------- | --------- | ---------\n",
      "###------ | -##------ | #-#------ | --##----- | ---#----- | -#-#----- | ---#----- | --#------ | ---#----- | ---------\n",
      "--------- | -#------- | -##------ | -##------ | -###----- | --##----- | -#-#----- | ---##---- | ----#---- | --#-#----\n",
      "--------- | --------- | --------- | --------- | --------- | --#------ | --##----- | --##----- | --###---- | ---##----\n"
     ]
    }
   ],
   "source": [
    "class ColumnPrinter(object):\n",
    "    def __init__(self, rows):\n",
    "        self.col_count = 0\n",
    "        self.rows = [''] * (rows + 1)\n",
    "\n",
    "    def append(self, obj):\n",
    "        board = obj.split()\n",
    "        col_width = len(board[0])\n",
    "        if not self.col_count:\n",
    "            self.rows[0] = str(self.col_count).center(col_width)\n",
    "        else:\n",
    "            self.rows[0] += ' | ' + str(self.col_count).center(col_width)\n",
    "        for i, obj_row in enumerate(board):\n",
    "            if not self.col_count:\n",
    "                self.rows[i + 1] = obj_row\n",
    "            else:\n",
    "                self.rows[i + 1] += ' | ' + obj_row\n",
    "        self.col_count += 1\n",
    "\n",
    "    def __str__(self):\n",
    "        return '\\n'.join(self.rows)\n",
    "\n",
    "columns = ColumnPrinter(5)\n",
    "sim = update_board(grid.height, grid.width)\n",
    "for i in range(10):\n",
    "    columns.append(str(grid))\n",
    "    grid = simulate_transition(grid, sim)\n",
    "print(columns)"
   ]
  }
 ],
 "metadata": {
  "kernelspec": {
   "display_name": "Python 3.10.4 ('libexec')",
   "language": "python",
   "name": "python3"
  },
  "language_info": {
   "codemirror_mode": {
    "name": "ipython",
    "version": 3
   },
   "file_extension": ".py",
   "mimetype": "text/x-python",
   "name": "python",
   "nbconvert_exporter": "python",
   "pygments_lexer": "ipython3",
   "version": "3.10.6"
  },
  "orig_nbformat": 4,
  "vscode": {
   "interpreter": {
    "hash": "cc8d9c3f6ffae122a40a4375eeaa35c3c8cda466083bb7dad4f1da814c68f00a"
   }
  }
 },
 "nbformat": 4,
 "nbformat_minor": 2
}
